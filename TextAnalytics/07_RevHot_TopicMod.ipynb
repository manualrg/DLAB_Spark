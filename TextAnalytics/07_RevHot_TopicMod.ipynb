{
 "cells": [
  {
   "cell_type": "code",
   "execution_count": 1,
   "metadata": {
    "collapsed": false,
    "deletable": true,
    "editable": true
   },
   "outputs": [],
   "source": [
    "import re\n",
    "import pandas as pd\n",
    "import numpy as np\n",
    "import matplotlib.pyplot as plt\n",
    "\n",
    "from pyspark.sql.types import  *\n",
    "from pyspark.sql.functions import *\n",
    "from pyspark.sql import *\n",
    "from pyspark.ml.feature import RegexTokenizer, StopWordsRemover, CountVectorizer, IDF, QuantileDiscretizer \n",
    "from pyspark.ml import Pipeline, PipelineModel\n",
    "from pyspark.ml.clustering import LDA, LDAModel"
   ]
  },
  {
   "cell_type": "code",
   "execution_count": 3,
   "metadata": {
    "collapsed": true
   },
   "outputs": [],
   "source": [
    "UDF_docCleaner= udf(lambda doc: \" \".join(re.sub('[^0-9a-zA-Z]+', ' ', doc).\n",
    "                                             lower().\n",
    "                                             split()\n",
    "                                        ), StringType() \n",
    "                   )"
   ]
  },
  {
   "cell_type": "code",
   "execution_count": 4,
   "metadata": {
    "collapsed": false,
    "deletable": true,
    "editable": true
   },
   "outputs": [],
   "source": [
    "corpus = spark.read.\\\n",
    "    option(\"sep\", \",\").\\\n",
    "    option(\"header\", \"true\").\\\n",
    "    option(\"inferSchema\", True).\\\n",
    "    csv(\"gs://manualrg-formacion/hot_rev/data/Hotels_Reviews.csv\").\\\n",
    "    withColumn('doc', UDF_docCleaner('review')).persist()"
   ]
  },
  {
   "cell_type": "code",
   "execution_count": 5,
   "metadata": {
    "collapsed": false,
    "deletable": true,
    "editable": true
   },
   "outputs": [
    {
     "data": {
      "text/plain": [
       "DataFrame[Hotel_Address: string, Additional_Number_of_Scoring: int, Review_Date: string, Average_Score: double, Hotel_Name: string, Reviewer_Nationality: string, Negative_Review: string, Review_Total_Negative_Word_Count: int, Total_Number_of_Reviews: int, Positive_Review: string, Review_Total_Positive_Word_Count: int, Total_Number_of_Reviews_Reviewer: int, Reviewer_Score: int, Tags: string, days_since_review_old: string, lat: string, lng: string, id: int, idhotel: int, hotel_country: string, review: string, label: int, flg_same_country: int, days_since_review: int, doc: string, tokens: array<string>, tokens_rm: array<string>, rawFeatures: vector, features: vector]"
      ]
     },
     "execution_count": 5,
     "metadata": {},
     "output_type": "execute_result"
    }
   ],
   "source": [
    "#Feature Engineering\n",
    "regexTokenizer = RegexTokenizer().setInputCol(\"doc\").setOutputCol(\"tokens\").\\\n",
    "    setPattern(\"\\\\s+\").\\\n",
    "    setMinTokenLength(2)\n",
    "remover = StopWordsRemover().setInputCol(\"tokens\").setOutputCol(\"tokens_rm\").\\\n",
    "    setCaseSensitive(False)\n",
    "TF = CountVectorizer().setInputCol(\"tokens_rm\").setOutputCol(\"rawFeatures\").\\\n",
    "    setMinTF(10).\\\n",
    "    setVocabSize(1000)\n",
    "idf = IDF().setInputCol(\"rawFeatures\").setOutputCol(\"features\")\n",
    "\n",
    "stages = [regexTokenizer, remover, TF, idf]\n",
    "feat_eng_pl = Pipeline().setStages(stages).fit(corpus)\n",
    "docTerm_df = feat_eng_pl.transform(corpus)\n",
    "corpus.unpersist()\n",
    "docTerm_df.persist()"
   ]
  },
  {
   "cell_type": "code",
   "execution_count": 58,
   "metadata": {
    "collapsed": false,
    "deletable": true,
    "editable": true
   },
   "outputs": [
    {
     "name": "stdout",
     "output_type": "stream",
     "text": [
      "('Vocabulary size: ', 1000)\n",
      "('Vocabulary: ', ['room', 'staff', 'location', 'hotel', 'breakfast', 'good', 'negative', 'great', 'friendly', 'helpful'])\n"
     ]
    }
   ],
   "source": [
    "TFModel = feat_eng_pl.stages[2]\n",
    "vocabulary = map(lambda term: (term.encode(\"utf-8\")), TFModel.vocabulary)\n",
    "\n",
    "print(\"Vocabulary size: \", len(vocabulary))\n",
    "print(\"Vocabulary: \", vocabulary[:10])"
   ]
  },
  {
   "cell_type": "code",
   "execution_count": 65,
   "metadata": {
    "collapsed": false
   },
   "outputs": [
    {
     "data": {
      "text/plain": [
       "['room', 'staff', 'location', 'hotel', 'breakfast']"
      ]
     },
     "execution_count": 65,
     "metadata": {},
     "output_type": "execute_result"
    }
   ],
   "source": [
    "\n",
    "voc_rdd = sc.parallelize(vocabulary)\n",
    "voc_rdd.take(5)"
   ]
  },
  {
   "cell_type": "code",
   "execution_count": 12,
   "metadata": {
    "collapsed": false,
    "deletable": true,
    "editable": true
   },
   "outputs": [
    {
     "name": "stdout",
     "output_type": "stream",
     "text": [
      "+-----+-------------+--------------------+\n",
      "|topic|  termIndices|         termWeights|\n",
      "+-----+-------------+--------------------+\n",
      "|    0| [4, 434, 23]|[0.14009192479538...|\n",
      "|    1|[101, 5, 196]|[0.10073106357052...|\n",
      "|    2|    [0, 3, 5]|[0.66271101588303...|\n",
      "+-----+-------------+--------------------+\n",
      "\n"
     ]
    }
   ],
   "source": [
    "lda = LDA().setK(3).setMaxIter(30).setFeaturesCol(\"features\").setTopicDistributionCol(\"topicDistribution\")\n",
    "ldaModel = lda.fit(docTerm_df) \n",
    "topicsTop_df = ldaModel.describeTopics(3)\n",
    "\n",
    "topicsTop_df.show()"
   ]
  },
  {
   "cell_type": "markdown",
   "metadata": {
    "deletable": true,
    "editable": true
   },
   "source": [
    "**Label topics with the most relevant words**"
   ]
  },
  {
   "cell_type": "code",
   "execution_count": 83,
   "metadata": {
    "collapsed": false,
    "deletable": true,
    "editable": true
   },
   "outputs": [
    {
     "data": {
      "text/plain": [
       "[(0, 0, 4, 'breakfast', 0.14009192479538307),\n",
       " (0, 1, 434, 'call', 0.12440970784770464),\n",
       " (0, 2, 23, 'us', 0.0889051318310744),\n",
       " (1, 0, 101, 'booking', 0.10073106357052276),\n",
       " (1, 1, 5, 'good', 0.09415103514559006)]"
      ]
     },
     "execution_count": 83,
     "metadata": {},
     "output_type": "execute_result"
    }
   ],
   "source": [
    "topicTokens = topicsTop_df.select(col(\"topic\"), posexplode(col(\"termIndices\")), col(\"termWeights\")).\\\n",
    "  withColumnRenamed(\"col\",\"tokenIdx\").\\\n",
    "  rdd.map(lambda row: (row['topic'], row['pos'], row['tokenIdx'], vocabulary[row['tokenIdx']], row['termWeights'][row['pos']]) )\n",
    "  #withColumn(\"vocabulary\",lit(vocabulary))#.select(col(\"topic\"),col(\"pos\"),expr(\"vocabulary[tokenIdx] as token\"))\n",
    "\n",
    "  \n",
    "  \n",
    "topicTokens.take(5)"
   ]
  },
  {
   "cell_type": "code",
   "execution_count": 88,
   "metadata": {
    "collapsed": false
   },
   "outputs": [],
   "source": [
    "topicSchema= StructType().\\\n",
    "  add(StructField(\"topicLabel\", IntegerType(), True)).\\\n",
    "  add(StructField(\"tokenPos\", IntegerType(), True)).\\\n",
    "  add(StructField(\"tokenIdx\", IntegerType(), True)).\\\n",
    "  add(StructField(\"token\", StringType(), True)).\\\n",
    "  add(StructField(\"tokenWeight\", DoubleType(), True))"
   ]
  },
  {
   "cell_type": "code",
   "execution_count": 89,
   "metadata": {
    "collapsed": false,
    "deletable": true,
    "editable": true
   },
   "outputs": [
    {
     "name": "stdout",
     "output_type": "stream",
     "text": [
      "Topic labelling: \n",
      "+----------+--------+--------+---------+--------------------+\n",
      "|topicLabel|tokenPos|tokenIdx|    token|         tokenWeight|\n",
      "+----------+--------+--------+---------+--------------------+\n",
      "|         0|       0|       4|breakfast| 0.14009192479538307|\n",
      "|         0|       1|     434|     call| 0.12440970784770464|\n",
      "|         0|       2|      23|       us|  0.0889051318310744|\n",
      "|         1|       0|     101|  booking| 0.10073106357052276|\n",
      "|         1|       1|       5|     good| 0.09415103514559006|\n",
      "|         1|       2|     196|  bedroom| 0.08415154954214422|\n",
      "|         2|       0|       0|     room|  0.6627110158830316|\n",
      "|         2|       1|       3|    hotel| 0.27066285448844307|\n",
      "|         2|       2|       5|     good|0.002038450048880536|\n",
      "+----------+--------+--------+---------+--------------------+\n",
      "\n"
     ]
    }
   ],
   "source": [
    "topicReport =  topicTokens.toDF(topicSchema)\n",
    "print(\"Topic labelling: \")\n",
    "topicReport.show()"
   ]
  },
  {
   "cell_type": "code",
   "execution_count": null,
   "metadata": {
    "collapsed": true,
    "deletable": true,
    "editable": true
   },
   "outputs": [],
   "source": []
  }
 ],
 "metadata": {
  "kernelspec": {
   "display_name": "Python 2",
   "language": "python",
   "name": "python2"
  }
 },
 "nbformat": 4,
 "nbformat_minor": 2
}
